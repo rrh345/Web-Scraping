{
 "cells": [
  {
   "cell_type": "code",
   "execution_count": 43,
   "metadata": {},
   "outputs": [
    {
     "name": "stdout",
     "output_type": "stream",
     "text": [
      "{'title': 'A Light in the Attic', 'price': '£51.77', 'rating': 'Three stars'}\n",
      "{'title': 'Tipping the Velvet', 'price': '£53.74', 'rating': 'One star'}\n",
      "{'title': 'Soumission', 'price': '£50.10', 'rating': 'One star'}\n",
      "{'title': 'Sharp Objects', 'price': '£47.82', 'rating': 'Four stars'}\n",
      "{'title': 'Sapiens: A Brief History of Humankind', 'price': '£54.23', 'rating': 'Five stars'}\n",
      "{'title': 'The Requiem Red', 'price': '£22.65', 'rating': 'One star'}\n",
      "{'title': 'The Dirty Little Secrets of Getting Your Dream Job', 'price': '£33.34', 'rating': 'Four stars'}\n",
      "{'title': 'The Coming Woman: A Novel Based on the Life of the Infamous Feminist, Victoria Woodhull', 'price': '£17.93', 'rating': 'Three stars'}\n",
      "{'title': 'The Boys in the Boat: Nine Americans and Their Epic Quest for Gold at the 1936 Berlin Olympics', 'price': '£22.60', 'rating': 'Four stars'}\n",
      "{'title': 'The Black Maria', 'price': '£52.15', 'rating': 'One star'}\n",
      "{'title': 'Starving Hearts (Triangular Trade Trilogy, #1)', 'price': '£13.99', 'rating': 'Two stars'}\n",
      "{'title': \"Shakespeare's Sonnets\", 'price': '£20.66', 'rating': 'Four stars'}\n",
      "{'title': 'Set Me Free', 'price': '£17.46', 'rating': 'Five stars'}\n",
      "{'title': \"Scott Pilgrim's Precious Little Life (Scott Pilgrim #1)\", 'price': '£52.29', 'rating': 'Five stars'}\n",
      "{'title': 'Rip it Up and Start Again', 'price': '£35.02', 'rating': 'Five stars'}\n",
      "{'title': 'Our Band Could Be Your Life: Scenes from the American Indie Underground, 1981-1991', 'price': '£57.25', 'rating': 'Three stars'}\n",
      "{'title': 'Olio', 'price': '£23.88', 'rating': 'One star'}\n",
      "{'title': 'Mesaerion: The Best Science Fiction Stories 1800-1849', 'price': '£37.59', 'rating': 'One star'}\n",
      "{'title': 'Libertarianism for Beginners', 'price': '£51.33', 'rating': 'Two stars'}\n",
      "{'title': \"It's Only the Himalayas\", 'price': '£45.17', 'rating': 'Two stars'}\n"
     ]
    }
   ],
   "source": [
    "from bs4 import BeautifulSoup\n",
    "import requests\n",
    "\n",
    "def getHTML(url):\n",
    "    response = requests.get(url)\n",
    "    return response.text\n",
    "\n",
    "html = getHTML(\"http://books.toscrape.com/\")\n",
    "\n",
    "soup = BeautifulSoup(html,'html.parser')\n",
    "\n",
    "book_data = soup.find('ol', attrs = {'class':'row'})\n",
    "\n",
    "books =[]\n",
    "for row in book_data.find_all('li'):\n",
    "    items = row.find_all('article')\n",
    "    book = {}\n",
    "    book['title'] = row.find('article').find('h3').find('a').get('title')\n",
    "    book['price'] = row.find('article').find(\"div\", attrs = {\"class\":\"product_price\"}).find(\"p\", attrs = {\"class\":\"price_color\"}).string[1:7]\n",
    "    rating = row.find('article').find('p').get('class')[1]\n",
    "    if rating == \"One\":\n",
    "        book['rating'] = f\"{rating} star\"\n",
    "    else:\n",
    "        book['rating'] = f\"{rating} stars\"\n",
    "    books.append(book)\n",
    "    print(book)\n",
    "\n"
   ]
  }
 ],
 "metadata": {
  "interpreter": {
   "hash": "86d1a67b0d56e74f294bd0a89711776805270fb9ebddae761db44ecf66e3b529"
  },
  "kernelspec": {
   "display_name": "Python 3.9.7 64-bit ('base': conda)",
   "language": "python",
   "name": "python3"
  },
  "language_info": {
   "codemirror_mode": {
    "name": "ipython",
    "version": 3
   },
   "file_extension": ".py",
   "mimetype": "text/x-python",
   "name": "python",
   "nbconvert_exporter": "python",
   "pygments_lexer": "ipython3",
   "version": "3.9.7"
  },
  "orig_nbformat": 4
 },
 "nbformat": 4,
 "nbformat_minor": 2
}
