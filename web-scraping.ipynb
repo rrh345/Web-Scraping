{
 "cells": [
  {
   "cell_type": "code",
   "execution_count": 60,
   "metadata": {},
   "outputs": [],
   "source": [
    "from bs4 import BeautifulSoup\n",
    "import requests\n",
    "\n",
    "def getHTML(url):\n",
    "    response = requests.get(url)\n",
    "    return response.text\n",
    "\n",
    "html = getHTML(\"http://books.toscrape.com/\")\n",
    "\n",
    "soup = BeautifulSoup(html,'html.parser')\n",
    "\n",
    "book_data = soup.find('ol', attrs = {'class':'row'})\n",
    "\n",
    "books =[]\n",
    "for row in book_data.find_all('li'):\n",
    "    items = row.find_all('article')\n",
    "    book = {}\n",
    "    book['title'] = row.find('article').find('h3').find('a').get('title')\n",
    "    book['price'] = row.find('article').find(\"div\", attrs = {\"class\":\"product_price\"}).find(\"p\", attrs = {\"class\":\"price_color\"}).string[1:7]\n",
    "    rating = row.find('article').find('p').get('class')[1]\n",
    "    if rating == \"One\":\n",
    "        book['rating'] = f\"{rating} star\"\n",
    "    else:\n",
    "        book['rating'] = f\"{rating} stars\"\n",
    "    books.append(book)\n",
    "\n",
    "import csv\n",
    "with open(\"books.csv\", \"w\", encoding=\"utf-8\") as csvfile:\n",
    "    writer = csv.DictWriter(csvfile, fieldnames=['title', 'rating', 'price'])\n",
    "    writer.writeheader()\n",
    "    writer.writerows(books)"
   ]
  }
 ],
 "metadata": {
  "interpreter": {
   "hash": "86d1a67b0d56e74f294bd0a89711776805270fb9ebddae761db44ecf66e3b529"
  },
  "kernelspec": {
   "display_name": "Python 3.9.7 64-bit ('base': conda)",
   "language": "python",
   "name": "python3"
  },
  "language_info": {
   "codemirror_mode": {
    "name": "ipython",
    "version": 3
   },
   "file_extension": ".py",
   "mimetype": "text/x-python",
   "name": "python",
   "nbconvert_exporter": "python",
   "pygments_lexer": "ipython3",
   "version": "3.9.7"
  },
  "orig_nbformat": 4
 },
 "nbformat": 4,
 "nbformat_minor": 2
}
